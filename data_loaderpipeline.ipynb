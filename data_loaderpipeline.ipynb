{
 "cells": [
  {
   "cell_type": "code",
   "execution_count": null,
   "id": "60a4c6bd",
   "metadata": {
    "vscode": {
     "languageId": "plaintext"
    }
   },
   "outputs": [],
   "source": [
    "import os\n",
    "import win32com.client\n",
    "def resolve_shortcut(path):\n",
    "    shell = win32com.client.Dispatch(\"WScript.Shell\")\n",
    "    shortcut = shell.CreateShortCut(path)\n",
    "    return shortcut.Targetpath\n",
    "\n",
    "data_path = resolve_shortcut(r\"G:\\\\My Drive\\\\dc4data.lnk\")\n",
    "benthic_path = resolve_shortcut(data_path+r\"\\\\benthic_datasets.lnk\")\n",
    "coralbleaching_path = resolve_shortcut(data_path+r\"\\\\coral_bleaching.lnk\")\n",
    "if not os.path.exists(r\"G:\\.shortcut-targets-by-id\\1v4g4qOrbisBvrpqOxLrYn96nd_gPG_Ge\\dc4data\\coralscapes\"):\n",
    "     coralscapes_path = resolve_shortcut(data_path+r\"\\\\coralscapes.lnk\")\n",
    "else:\n",
    "        coralscapes_path = r\"G:\\.shortcut-targets-by-id\\1v4g4qOrbisBvrpqOxLrYn96nd_gPG_Ge\\dc4data\\coralscapes\"\n",
    "for p in [data_path, benthic_path, coralbleaching_path, coralscapes_path]:\n",
    "    if os.path.exists(p):\n",
    "        print(f\"Path exists: {p}\")\n",
    "    if not os.path.exists(p):\n",
    "        raise FileNotFoundError(f\"Path does not exist: {p}\")\n",
    "    "
   ]
  }
 ],
 "metadata": {
  "language_info": {
   "name": "python"
  }
 },
 "nbformat": 4,
 "nbformat_minor": 5
}
