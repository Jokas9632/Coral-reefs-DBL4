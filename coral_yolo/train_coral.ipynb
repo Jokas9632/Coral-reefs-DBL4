{
 "cells": [
  {
   "cell_type": "code",
   "execution_count": null,
   "id": "43a8a5ed",
   "metadata": {
    "vscode": {
     "languageId": "plaintext"
    }
   },
   "outputs": [],
   "source": [
    "# notebooks/train_coral.ipynb\n",
    "# Example training notebook for coral bleaching detection with YOLOv11\n",
    "\n",
    "from coral_yolo.trainers.coral_trainer import CoralTrainer\n",
    "\n",
    "# Initialize trainer with overrides\n",
    "trainer = CoralTrainer(overrides={\n",
    "    \"model\": \"models/yolov11s_coral.yaml\",\n",
    "    \"data\": \"config/coral.yaml\",\n",
    "    \"epochs\": 100,\n",
    "    \"batch\": 16,\n",
    "    \"imgsz\": 640,\n",
    "    \"device\": 0\n",
    "})\n",
    "\n",
    "# Train model\n",
    "trainer.train()\n",
    "\n",
    "# Validate model\n",
    "trainer.validate()\n",
    "\n",
    "# Predict on a new reef image\n",
    "results = trainer.predict(\"sample_reef.jpg\")\n"
   ]
  }
 ],
 "metadata": {
  "language_info": {
   "name": "python"
  }
 },
 "nbformat": 4,
 "nbformat_minor": 5
}
